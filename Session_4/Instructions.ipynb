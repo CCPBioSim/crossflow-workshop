{
 "cells": [
  {
   "cell_type": "markdown",
   "id": "8079ba4a",
   "metadata": {},
   "source": [
    "## Session 4: Analysis of the Path Sampling Workflow Results\n",
    "\n",
    "This short session is an opportunity to explore the pathway between the \"open\" and \"closed\" states of adenylate kinate that your workflow has identified.\n",
    "\n",
    "### Orientation\n",
    "\n",
    "Navigate to the *session_4* folder and open a terminal window here, if you don't already have one.\n",
    "\n",
    "In this folder you will find *pathtraj*, a little Python utility to post-process your workflow data. If you type:\n",
    "\n",
    "```bash\n",
    "./pathtraj -h\n",
    "```\n",
    "You will get a short help message. \n",
    "\n",
    "To run *pathtraj* you specify your two ensemble trajectory files, two reference \"topology\" files (but here, actually Gromacs .gro files), and the indices of the snapshots in the two ensembles that you want to find the shortest pathway between. The output is a multi-model PDB format file that you can download and visualise.\n",
    "\n",
    "The \"start\" and \"end\" structures will be the first snapshots in each of the two ensemble trajectory files, so the command you need is:\n",
    "\n",
    "```bash\n",
    "./pathtraj ../session_3/ensembleA.xtc ../session_3/1ake_em.gro 0 ../session_3/ensembleB.xtc ../session_3/4ake_em.gro 0 pathway.pdb\n",
    "```\n",
    "The job may take a minute to run. \n",
    "\n",
    "When it has finished, you will see the file \"pathway.pdb\" in the file browser pane on the left. If you ctrl-click on this you get the option to download it to your laptop. Once there, you should be able to use your favourite visualisation program to see the transition path."
   ]
  },
  {
   "cell_type": "code",
   "execution_count": null,
   "id": "63fb5905",
   "metadata": {},
   "outputs": [],
   "source": []
  }
 ],
 "metadata": {
  "kernelspec": {
   "display_name": "Python 3 (ipykernel)",
   "language": "python",
   "name": "python3"
  },
  "language_info": {
   "codemirror_mode": {
    "name": "ipython",
    "version": 3
   },
   "file_extension": ".py",
   "mimetype": "text/x-python",
   "name": "python",
   "nbconvert_exporter": "python",
   "pygments_lexer": "ipython3",
   "version": "3.9.16"
  }
 },
 "nbformat": 4,
 "nbformat_minor": 5
}
